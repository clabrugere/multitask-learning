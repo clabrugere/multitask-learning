{
 "cells": [
  {
   "cell_type": "code",
   "execution_count": 16,
   "metadata": {},
   "outputs": [
    {
     "name": "stdout",
     "output_type": "stream",
     "text": [
      "Sparse inputs: (4096, 5)\n",
      "Dense inputs: (4096, 10)\n",
      "Labels: (4096, 2)\n",
      "Epoch 1/5\n",
      "8/8 [==============================] - 2s 126ms/step - loss: 1.6834 - val_loss: 1.3936\n",
      "Epoch 2/5\n",
      "8/8 [==============================] - 0s 26ms/step - loss: 1.5626 - val_loss: 1.3911\n",
      "Epoch 3/5\n",
      "8/8 [==============================] - 0s 24ms/step - loss: 1.4965 - val_loss: 1.3910\n",
      "Epoch 4/5\n",
      "8/8 [==============================] - 0s 22ms/step - loss: 1.4528 - val_loss: 1.3914\n",
      "Epoch 5/5\n",
      "8/8 [==============================] - 0s 23ms/step - loss: 1.4175 - val_loss: 1.3915\n"
     ]
    }
   ],
   "source": [
    "import tensorflow as tf\n",
    "\n",
    "from models import MultiGateMixtureOfExperts, MultiTaskBCE\n",
    "\n",
    "TRAIN_SIZE = 4096\n",
    "NUM_TASKS = 2\n",
    "NUM_CATEGORICAL = 5\n",
    "NUM_CONTINUOUS = 10\n",
    "NUM_EMBEDDING = 100\n",
    "\n",
    "sparse_inputs = tf.random.categorical(\n",
    "    tf.random.uniform((TRAIN_SIZE, NUM_EMBEDDING), minval=0, maxval=1),\n",
    "    NUM_CATEGORICAL,\n",
    "    dtype=tf.int32,\n",
    ")\n",
    "dense_inputs = tf.random.uniform((TRAIN_SIZE, NUM_CONTINUOUS), minval=-1.0, maxval=1.0, dtype=tf.float32)\n",
    "labels = tf.cast(tf.random.uniform(shape=(TRAIN_SIZE, NUM_TASKS)) > 0.5, tf.float32)\n",
    "\n",
    "print(f\"Sparse inputs: {sparse_inputs.shape}\")\n",
    "print(f\"Dense inputs: {dense_inputs.shape}\")\n",
    "print(f\"Labels: {labels.shape}\")\n",
    "\n",
    "model = MultiGateMixtureOfExperts(\n",
    "    num_tasks=NUM_TASKS,\n",
    "    num_emb=NUM_EMBEDDING,\n",
    "    dim_emb=4,\n",
    "    num_experts=2,\n",
    "    num_hidden_expert=2,\n",
    "    dim_hidden_expert=32,\n",
    "    dropout_expert=0.0,\n",
    "    gate_function=\"softmax\",\n",
    "    num_hidden_tasks=2,\n",
    "    dim_hidden_tasks=32,\n",
    "    dim_out_tasks=1,\n",
    "    dropout_tasks=0.0,\n",
    ")\n",
    "\n",
    "model.compile(optimizer=\"adam\", loss=MultiTaskBCE(NUM_TASKS))\n",
    "history = model.fit(x=(sparse_inputs, dense_inputs), y=labels, batch_size=512, validation_split=0.1, epochs=5)"
   ]
  },
  {
   "cell_type": "code",
   "execution_count": null,
   "metadata": {},
   "outputs": [],
   "source": []
  }
 ],
 "metadata": {
  "kernelspec": {
   "display_name": "multitask-learning",
   "language": "python",
   "name": "python3"
  },
  "language_info": {
   "codemirror_mode": {
    "name": "ipython",
    "version": 3
   },
   "file_extension": ".py",
   "mimetype": "text/x-python",
   "name": "python",
   "nbconvert_exporter": "python",
   "pygments_lexer": "ipython3",
   "version": "3.11.7"
  }
 },
 "nbformat": 4,
 "nbformat_minor": 2
}
